{
  "nbformat": 4,
  "nbformat_minor": 0,
  "metadata": {
    "kernelspec": {
      "display_name": "Python 3",
      "language": "python",
      "name": "python3"
    },
    "language_info": {
      "codemirror_mode": {
        "name": "ipython",
        "version": 3
      },
      "file_extension": ".py",
      "mimetype": "text/x-python",
      "name": "python",
      "nbconvert_exporter": "python",
      "pygments_lexer": "ipython3",
      "version": "3.7.0"
    },
    "colab": {
      "name": "dictionary_drills_complete.ipynb",
      "provenance": [],
      "collapsed_sections": []
    }
  },
  "cells": [
    {
      "cell_type": "markdown",
      "metadata": {
        "colab_type": "text",
        "id": "hpifQR9j2PEo"
      },
      "source": [
        "## 1: `fillable`\n",
        "\n",
        "You're running an online business and a big part of your day is fulfilling orders. As your volume picks up that's been taking more of your time, and unfortunately lately you've been running into situations where you take an order but can't fulfill it.\n",
        "\n",
        "You've decided to write a function `fillable` that takes three arguments: a dictionary stock representing all the merchandise you have in stock, a string merch representing the thing your customer wants to buy, and an integer `n` representing the number of units of merch they would like to buy. Your function should return `True` if you have the merchandise in stock to complete the sale, otherwise it should return `False`.\n",
        "\n",
        "Valid data will always be passed in and n will always be >= 1."
      ]
    },
    {
      "cell_type": "code",
      "metadata": {
        "colab_type": "code",
        "outputId": "9cb1f327-5601-4214-d48b-72b0f8c059e9",
        "id": "SjwM2v6QgDYh",
        "colab": {
          "base_uri": "https://localhost:8080/",
          "height": 34
        }
      },
      "source": [
        " stock = {\n",
        "  \"bowls\": 7,\n",
        "  \"plates\": 5,\n",
        "  \"forks\": 3,\n",
        "  \"spoons\": 3,\n",
        "  \"knives\": 3,\n",
        "}\n",
        "\n",
        "n = 8\n",
        "\n",
        "merch = \"bowls\"\n",
        "\n",
        "def fillable (stock, merch, n):\n",
        "\n",
        "  if (merch in stock.keys() and stock[merch] >= n): \n",
        "    print(True)\n",
        "  else: \n",
        "    print(False)\n",
        "\n",
        "\n",
        "\n",
        "fillable(stock, merch, n)"
      ],
      "execution_count": 0,
      "outputs": [
        {
          "output_type": "stream",
          "text": [
            "False\n"
          ],
          "name": "stdout"
        }
      ]
    },
    {
      "cell_type": "markdown",
      "metadata": {
        "colab_type": "text",
        "id": "LQYZc-3n8PGi"
      },
      "source": [
        "## 2: user_contacts\n",
        "\n",
        "You're putting together contact information for all the users of your website to ship them a small gift. You queried your database and got back a list of users, where each user is another list with up to two items: a string representing the user's name and their shipping zip code. Example data might look like:\n",
        "\n",
        "```python\n",
        "[[\"Grae Drake\", 98110], [\"Bethany Kok\"], [\"Alex Nussbacher\", 94101], [\"Darrell Silver\", 11201]]\n",
        "```\n",
        "\n",
        "Notice that one of the users above has a name but doesn't have a zip code.\n",
        "\n",
        "Write a function `user_contacts` that takes a two-dimensional list like the one above and returns a dictionary with an item for each user where the key is the user's name and the value is the user's zip code. If your data doesn't include a zip code then the value should be `None`.\n",
        "\n",
        "For example, using the input above, user_contacts would return this dictionary:\n",
        "\n",
        "```python\n",
        "{\n",
        "    \"Grae Drake\": 98110,\n",
        "    \"Bethany Kok\": None,\n",
        "    \"Alex Nussbacher\": 94101,\n",
        "    \"Darrell Silver\": 11201,    \n",
        "}\n",
        "```\n",
        "\n",
        "You don't have to worry about leading zeros in zip codes."
      ]
    },
    {
      "cell_type": "code",
      "metadata": {
        "id": "rXxAKVl5B-5t",
        "colab_type": "code",
        "outputId": "eb51e911-f5fe-441e-cb87-52f85dd7dcd9",
        "colab": {
          "base_uri": "https://localhost:8080/",
          "height": 86
        }
      },
      "source": [
        "double_list = [[\"Grae Drake\", 98110], [\"Bethany Kok\"], [\"Alex Nussbacher\", 94101], [\"Darrell Silver\", 11201]]\n",
        "\n",
        "\n",
        "def user_contacts(double_list):\n",
        "\n",
        "\n",
        "  return double_list \n",
        "\n",
        "user_contacts(double_list)"
      ],
      "execution_count": 3,
      "outputs": [
        {
          "output_type": "execute_result",
          "data": {
            "text/plain": [
              "[['Grae Drake', 98110],\n",
              " ['Bethany Kok'],\n",
              " ['Alex Nussbacher', 94101],\n",
              " ['Darrell Silver', 11201]]"
            ]
          },
          "metadata": {
            "tags": []
          },
          "execution_count": 3
        }
      ]
    },
    {
      "cell_type": "code",
      "metadata": {
        "id": "1V4yrAKlgBy-",
        "colab_type": "code",
        "colab": {
          "base_uri": "https://localhost:8080/",
          "height": 34
        },
        "outputId": "4f8376bc-a19c-467b-852f-996db65495ae"
      },
      "source": [
        "double_list [1][0]"
      ],
      "execution_count": 4,
      "outputs": [
        {
          "output_type": "execute_result",
          "data": {
            "text/plain": [
              "'Bethany Kok'"
            ]
          },
          "metadata": {
            "tags": []
          },
          "execution_count": 4
        }
      ]
    },
    {
      "cell_type": "code",
      "metadata": {
        "id": "hH6fDfAVcOJX",
        "colab_type": "code",
        "colab": {
          "base_uri": "https://localhost:8080/",
          "height": 34
        },
        "outputId": "013ad5b5-d327-40d1-c888-884f7b6b1fce"
      },
      "source": [
        "len (double_list)"
      ],
      "execution_count": 10,
      "outputs": [
        {
          "output_type": "execute_result",
          "data": {
            "text/plain": [
              "4"
            ]
          },
          "metadata": {
            "tags": []
          },
          "execution_count": 10
        }
      ]
    },
    {
      "cell_type": "code",
      "metadata": {
        "id": "jRa_jhWMci_j",
        "colab_type": "code",
        "colab": {
          "base_uri": "https://localhost:8080/",
          "height": 34
        },
        "outputId": "038ef2ff-9325-429c-e5fa-e5e2fa7ac399"
      },
      "source": [
        "len (double_list [1])"
      ],
      "execution_count": 13,
      "outputs": [
        {
          "output_type": "execute_result",
          "data": {
            "text/plain": [
              "1"
            ]
          },
          "metadata": {
            "tags": []
          },
          "execution_count": 13
        }
      ]
    },
    {
      "cell_type": "code",
      "metadata": {
        "id": "2l1jxz2idJIv",
        "colab_type": "code",
        "colab": {
          "base_uri": "https://localhost:8080/",
          "height": 86
        },
        "outputId": "143a1a8e-3a90-410d-bb3f-bcdcf315d1c9"
      },
      "source": [
        "for i in range (len (double_list)):\n",
        "  print (double_list [i])"
      ],
      "execution_count": 24,
      "outputs": [
        {
          "output_type": "stream",
          "text": [
            "['Grae Drake', 98110]\n",
            "['Bethany Kok']\n",
            "['Alex Nussbacher', 94101]\n",
            "['Darrell Silver', 11201]\n"
          ],
          "name": "stdout"
        }
      ]
    },
    {
      "cell_type": "code",
      "metadata": {
        "id": "wg6P3819ea84",
        "colab_type": "code",
        "colab": {}
      },
      "source": [
        "#search each element and find if each element has less than two objects\n",
        "  #if the condition is true than you will append none"
      ],
      "execution_count": 0,
      "outputs": []
    }
  ]
}